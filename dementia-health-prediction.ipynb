{
 "cells": [
  {
   "cell_type": "code",
   "execution_count": 1,
   "id": "b8b9272a",
   "metadata": {
    "_cell_guid": "b1076dfc-b9ad-4769-8c92-a6c4dae69d19",
    "_uuid": "8f2839f25d086af736a60e9eeb907d3b93b6e0e5",
    "execution": {
     "iopub.execute_input": "2024-02-02T19:18:14.558699Z",
     "iopub.status.busy": "2024-02-02T19:18:14.558411Z",
     "iopub.status.idle": "2024-02-02T19:18:15.211258Z",
     "shell.execute_reply": "2024-02-02T19:18:15.210441Z"
    },
    "papermill": {
     "duration": 0.661678,
     "end_time": "2024-02-02T19:18:15.212904",
     "exception": false,
     "start_time": "2024-02-02T19:18:14.551226",
     "status": "completed"
    },
    "tags": []
   },
   "outputs": [
    {
     "name": "stdout",
     "output_type": "stream",
     "text": [
      "/kaggle/input/dementia-patient-health-and-prescriptions-dataset/dementia_patients_health_data.csv\n"
     ]
    }
   ],
   "source": [
    "# This Python 3 environment comes with many helpful analytics libraries installed\n",
    "# It is defined by the kaggle/python Docker image: https://github.com/kaggle/docker-python\n",
    "# For example, here's several helpful packages to load\n",
    "\n",
    "import numpy as np # linear algebra\n",
    "import pandas as pd # data processing, CSV file I/O (e.g. pd.read_csv)\n",
    "\n",
    "# Input data files are available in the read-only \"../input/\" directory\n",
    "# For example, running this (by clicking run or pressing Shift+Enter) will list all files under the input directory\n",
    "\n",
    "import os\n",
    "for dirname, _, filenames in os.walk('/kaggle/input'):\n",
    "    for filename in filenames:\n",
    "        print(os.path.join(dirname, filename))\n",
    "\n",
    "# You can write up to 20GB to the current directory (/kaggle/working/) that gets preserved as output when you create a version using \"Save & Run All\" \n",
    "# You can also write temporary files to /kaggle/temp/, but they won't be saved outside of the current session"
   ]
  },
  {
   "cell_type": "code",
   "execution_count": 2,
   "id": "a51f0b4f",
   "metadata": {
    "execution": {
     "iopub.execute_input": "2024-02-02T19:18:15.225580Z",
     "iopub.status.busy": "2024-02-02T19:18:15.225194Z",
     "iopub.status.idle": "2024-02-02T19:18:15.275240Z",
     "shell.execute_reply": "2024-02-02T19:18:15.274432Z"
    },
    "papermill": {
     "duration": 0.058203,
     "end_time": "2024-02-02T19:18:15.276909",
     "exception": false,
     "start_time": "2024-02-02T19:18:15.218706",
     "status": "completed"
    },
    "tags": []
   },
   "outputs": [
    {
     "data": {
      "text/html": [
       "<div>\n",
       "<style scoped>\n",
       "    .dataframe tbody tr th:only-of-type {\n",
       "        vertical-align: middle;\n",
       "    }\n",
       "\n",
       "    .dataframe tbody tr th {\n",
       "        vertical-align: top;\n",
       "    }\n",
       "\n",
       "    .dataframe thead th {\n",
       "        text-align: right;\n",
       "    }\n",
       "</style>\n",
       "<table border=\"1\" class=\"dataframe\">\n",
       "  <thead>\n",
       "    <tr style=\"text-align: right;\">\n",
       "      <th></th>\n",
       "      <th>Diabetic</th>\n",
       "      <th>AlcoholLevel</th>\n",
       "      <th>HeartRate</th>\n",
       "      <th>BloodOxygenLevel</th>\n",
       "      <th>BodyTemperature</th>\n",
       "      <th>Weight</th>\n",
       "      <th>MRI_Delay</th>\n",
       "      <th>Prescription</th>\n",
       "      <th>Dosage in mg</th>\n",
       "      <th>Age</th>\n",
       "      <th>...</th>\n",
       "      <th>Smoking_Status</th>\n",
       "      <th>APOE_ε4</th>\n",
       "      <th>Physical_Activity</th>\n",
       "      <th>Depression_Status</th>\n",
       "      <th>Cognitive_Test_Scores</th>\n",
       "      <th>Medication_History</th>\n",
       "      <th>Nutrition_Diet</th>\n",
       "      <th>Sleep_Quality</th>\n",
       "      <th>Chronic_Health_Conditions</th>\n",
       "      <th>Dementia</th>\n",
       "    </tr>\n",
       "  </thead>\n",
       "  <tbody>\n",
       "    <tr>\n",
       "      <th>0</th>\n",
       "      <td>1</td>\n",
       "      <td>0.084974</td>\n",
       "      <td>98</td>\n",
       "      <td>96.230743</td>\n",
       "      <td>36.224852</td>\n",
       "      <td>57.563978</td>\n",
       "      <td>36.421028</td>\n",
       "      <td>NaN</td>\n",
       "      <td>NaN</td>\n",
       "      <td>60</td>\n",
       "      <td>...</td>\n",
       "      <td>Current Smoker</td>\n",
       "      <td>Negative</td>\n",
       "      <td>Sedentary</td>\n",
       "      <td>No</td>\n",
       "      <td>10</td>\n",
       "      <td>No</td>\n",
       "      <td>Low-Carb Diet</td>\n",
       "      <td>Poor</td>\n",
       "      <td>Diabetes</td>\n",
       "      <td>0</td>\n",
       "    </tr>\n",
       "    <tr>\n",
       "      <th>1</th>\n",
       "      <td>0</td>\n",
       "      <td>0.016973</td>\n",
       "      <td>78</td>\n",
       "      <td>93.032122</td>\n",
       "      <td>36.183874</td>\n",
       "      <td>56.832335</td>\n",
       "      <td>31.157633</td>\n",
       "      <td>Galantamine</td>\n",
       "      <td>12.0</td>\n",
       "      <td>61</td>\n",
       "      <td>...</td>\n",
       "      <td>Former Smoker</td>\n",
       "      <td>Positive</td>\n",
       "      <td>Moderate Activity</td>\n",
       "      <td>No</td>\n",
       "      <td>1</td>\n",
       "      <td>Yes</td>\n",
       "      <td>Low-Carb Diet</td>\n",
       "      <td>Poor</td>\n",
       "      <td>Heart Disease</td>\n",
       "      <td>1</td>\n",
       "    </tr>\n",
       "    <tr>\n",
       "      <th>2</th>\n",
       "      <td>0</td>\n",
       "      <td>0.009000</td>\n",
       "      <td>89</td>\n",
       "      <td>93.566504</td>\n",
       "      <td>37.326321</td>\n",
       "      <td>59.759066</td>\n",
       "      <td>37.640435</td>\n",
       "      <td>NaN</td>\n",
       "      <td>NaN</td>\n",
       "      <td>69</td>\n",
       "      <td>...</td>\n",
       "      <td>Former Smoker</td>\n",
       "      <td>Negative</td>\n",
       "      <td>Moderate Activity</td>\n",
       "      <td>No</td>\n",
       "      <td>8</td>\n",
       "      <td>No</td>\n",
       "      <td>Mediterranean Diet</td>\n",
       "      <td>Poor</td>\n",
       "      <td>Heart Disease</td>\n",
       "      <td>0</td>\n",
       "    </tr>\n",
       "    <tr>\n",
       "      <th>3</th>\n",
       "      <td>0</td>\n",
       "      <td>0.086437</td>\n",
       "      <td>60</td>\n",
       "      <td>93.906510</td>\n",
       "      <td>37.030620</td>\n",
       "      <td>58.266471</td>\n",
       "      <td>50.673992</td>\n",
       "      <td>Donepezil</td>\n",
       "      <td>23.0</td>\n",
       "      <td>78</td>\n",
       "      <td>...</td>\n",
       "      <td>Never Smoked</td>\n",
       "      <td>Negative</td>\n",
       "      <td>Mild Activity</td>\n",
       "      <td>Yes</td>\n",
       "      <td>5</td>\n",
       "      <td>Yes</td>\n",
       "      <td>Balanced Diet</td>\n",
       "      <td>Poor</td>\n",
       "      <td>Hypertension</td>\n",
       "      <td>1</td>\n",
       "    </tr>\n",
       "    <tr>\n",
       "      <th>4</th>\n",
       "      <td>1</td>\n",
       "      <td>0.150747</td>\n",
       "      <td>67</td>\n",
       "      <td>97.508994</td>\n",
       "      <td>36.062121</td>\n",
       "      <td>67.705027</td>\n",
       "      <td>27.810601</td>\n",
       "      <td>Memantine</td>\n",
       "      <td>20.0</td>\n",
       "      <td>77</td>\n",
       "      <td>...</td>\n",
       "      <td>Never Smoked</td>\n",
       "      <td>Positive</td>\n",
       "      <td>Mild Activity</td>\n",
       "      <td>No</td>\n",
       "      <td>0</td>\n",
       "      <td>Yes</td>\n",
       "      <td>Low-Carb Diet</td>\n",
       "      <td>Good</td>\n",
       "      <td>Diabetes</td>\n",
       "      <td>1</td>\n",
       "    </tr>\n",
       "    <tr>\n",
       "      <th>...</th>\n",
       "      <td>...</td>\n",
       "      <td>...</td>\n",
       "      <td>...</td>\n",
       "      <td>...</td>\n",
       "      <td>...</td>\n",
       "      <td>...</td>\n",
       "      <td>...</td>\n",
       "      <td>...</td>\n",
       "      <td>...</td>\n",
       "      <td>...</td>\n",
       "      <td>...</td>\n",
       "      <td>...</td>\n",
       "      <td>...</td>\n",
       "      <td>...</td>\n",
       "      <td>...</td>\n",
       "      <td>...</td>\n",
       "      <td>...</td>\n",
       "      <td>...</td>\n",
       "      <td>...</td>\n",
       "      <td>...</td>\n",
       "      <td>...</td>\n",
       "    </tr>\n",
       "    <tr>\n",
       "      <th>995</th>\n",
       "      <td>1</td>\n",
       "      <td>0.081825</td>\n",
       "      <td>87</td>\n",
       "      <td>93.851963</td>\n",
       "      <td>36.495134</td>\n",
       "      <td>50.380106</td>\n",
       "      <td>42.318663</td>\n",
       "      <td>Donepezil</td>\n",
       "      <td>10.0</td>\n",
       "      <td>88</td>\n",
       "      <td>...</td>\n",
       "      <td>Never Smoked</td>\n",
       "      <td>Positive</td>\n",
       "      <td>Mild Activity</td>\n",
       "      <td>No</td>\n",
       "      <td>5</td>\n",
       "      <td>No</td>\n",
       "      <td>Balanced Diet</td>\n",
       "      <td>Poor</td>\n",
       "      <td>Diabetes</td>\n",
       "      <td>1</td>\n",
       "    </tr>\n",
       "    <tr>\n",
       "      <th>996</th>\n",
       "      <td>1</td>\n",
       "      <td>0.145249</td>\n",
       "      <td>97</td>\n",
       "      <td>94.522391</td>\n",
       "      <td>36.270804</td>\n",
       "      <td>94.006484</td>\n",
       "      <td>52.812568</td>\n",
       "      <td>NaN</td>\n",
       "      <td>NaN</td>\n",
       "      <td>80</td>\n",
       "      <td>...</td>\n",
       "      <td>Never Smoked</td>\n",
       "      <td>Negative</td>\n",
       "      <td>Moderate Activity</td>\n",
       "      <td>No</td>\n",
       "      <td>9</td>\n",
       "      <td>Yes</td>\n",
       "      <td>Low-Carb Diet</td>\n",
       "      <td>Poor</td>\n",
       "      <td>Diabetes</td>\n",
       "      <td>0</td>\n",
       "    </tr>\n",
       "    <tr>\n",
       "      <th>997</th>\n",
       "      <td>1</td>\n",
       "      <td>0.073692</td>\n",
       "      <td>65</td>\n",
       "      <td>98.578388</td>\n",
       "      <td>37.065703</td>\n",
       "      <td>80.088613</td>\n",
       "      <td>13.640229</td>\n",
       "      <td>NaN</td>\n",
       "      <td>NaN</td>\n",
       "      <td>67</td>\n",
       "      <td>...</td>\n",
       "      <td>Never Smoked</td>\n",
       "      <td>Positive</td>\n",
       "      <td>Sedentary</td>\n",
       "      <td>No</td>\n",
       "      <td>8</td>\n",
       "      <td>Yes</td>\n",
       "      <td>Balanced Diet</td>\n",
       "      <td>Good</td>\n",
       "      <td>Diabetes</td>\n",
       "      <td>0</td>\n",
       "    </tr>\n",
       "    <tr>\n",
       "      <th>998</th>\n",
       "      <td>0</td>\n",
       "      <td>0.037347</td>\n",
       "      <td>71</td>\n",
       "      <td>91.298580</td>\n",
       "      <td>37.037202</td>\n",
       "      <td>95.322210</td>\n",
       "      <td>17.445715</td>\n",
       "      <td>Memantine</td>\n",
       "      <td>20.0</td>\n",
       "      <td>62</td>\n",
       "      <td>...</td>\n",
       "      <td>Never Smoked</td>\n",
       "      <td>Positive</td>\n",
       "      <td>Sedentary</td>\n",
       "      <td>Yes</td>\n",
       "      <td>2</td>\n",
       "      <td>No</td>\n",
       "      <td>Low-Carb Diet</td>\n",
       "      <td>Good</td>\n",
       "      <td>NaN</td>\n",
       "      <td>1</td>\n",
       "    </tr>\n",
       "    <tr>\n",
       "      <th>999</th>\n",
       "      <td>0</td>\n",
       "      <td>0.085969</td>\n",
       "      <td>90</td>\n",
       "      <td>95.522825</td>\n",
       "      <td>36.026748</td>\n",
       "      <td>57.671455</td>\n",
       "      <td>30.011838</td>\n",
       "      <td>NaN</td>\n",
       "      <td>NaN</td>\n",
       "      <td>80</td>\n",
       "      <td>...</td>\n",
       "      <td>Never Smoked</td>\n",
       "      <td>Positive</td>\n",
       "      <td>Mild Activity</td>\n",
       "      <td>No</td>\n",
       "      <td>10</td>\n",
       "      <td>Yes</td>\n",
       "      <td>Mediterranean Diet</td>\n",
       "      <td>Good</td>\n",
       "      <td>Heart Disease</td>\n",
       "      <td>0</td>\n",
       "    </tr>\n",
       "  </tbody>\n",
       "</table>\n",
       "<p>1000 rows × 24 columns</p>\n",
       "</div>"
      ],
      "text/plain": [
       "     Diabetic  AlcoholLevel  HeartRate  BloodOxygenLevel  BodyTemperature  \\\n",
       "0           1      0.084974         98         96.230743        36.224852   \n",
       "1           0      0.016973         78         93.032122        36.183874   \n",
       "2           0      0.009000         89         93.566504        37.326321   \n",
       "3           0      0.086437         60         93.906510        37.030620   \n",
       "4           1      0.150747         67         97.508994        36.062121   \n",
       "..        ...           ...        ...               ...              ...   \n",
       "995         1      0.081825         87         93.851963        36.495134   \n",
       "996         1      0.145249         97         94.522391        36.270804   \n",
       "997         1      0.073692         65         98.578388        37.065703   \n",
       "998         0      0.037347         71         91.298580        37.037202   \n",
       "999         0      0.085969         90         95.522825        36.026748   \n",
       "\n",
       "        Weight  MRI_Delay Prescription  Dosage in mg  Age  ...  \\\n",
       "0    57.563978  36.421028          NaN           NaN   60  ...   \n",
       "1    56.832335  31.157633  Galantamine          12.0   61  ...   \n",
       "2    59.759066  37.640435          NaN           NaN   69  ...   \n",
       "3    58.266471  50.673992    Donepezil          23.0   78  ...   \n",
       "4    67.705027  27.810601    Memantine          20.0   77  ...   \n",
       "..         ...        ...          ...           ...  ...  ...   \n",
       "995  50.380106  42.318663    Donepezil          10.0   88  ...   \n",
       "996  94.006484  52.812568          NaN           NaN   80  ...   \n",
       "997  80.088613  13.640229          NaN           NaN   67  ...   \n",
       "998  95.322210  17.445715    Memantine          20.0   62  ...   \n",
       "999  57.671455  30.011838          NaN           NaN   80  ...   \n",
       "\n",
       "     Smoking_Status   APOE_ε4  Physical_Activity Depression_Status  \\\n",
       "0    Current Smoker  Negative          Sedentary                No   \n",
       "1     Former Smoker  Positive  Moderate Activity                No   \n",
       "2     Former Smoker  Negative  Moderate Activity                No   \n",
       "3      Never Smoked  Negative      Mild Activity               Yes   \n",
       "4      Never Smoked  Positive      Mild Activity                No   \n",
       "..              ...       ...                ...               ...   \n",
       "995    Never Smoked  Positive      Mild Activity                No   \n",
       "996    Never Smoked  Negative  Moderate Activity                No   \n",
       "997    Never Smoked  Positive          Sedentary                No   \n",
       "998    Never Smoked  Positive          Sedentary               Yes   \n",
       "999    Never Smoked  Positive      Mild Activity                No   \n",
       "\n",
       "    Cognitive_Test_Scores Medication_History      Nutrition_Diet  \\\n",
       "0                      10                 No       Low-Carb Diet   \n",
       "1                       1                Yes       Low-Carb Diet   \n",
       "2                       8                 No  Mediterranean Diet   \n",
       "3                       5                Yes       Balanced Diet   \n",
       "4                       0                Yes       Low-Carb Diet   \n",
       "..                    ...                ...                 ...   \n",
       "995                     5                 No       Balanced Diet   \n",
       "996                     9                Yes       Low-Carb Diet   \n",
       "997                     8                Yes       Balanced Diet   \n",
       "998                     2                 No       Low-Carb Diet   \n",
       "999                    10                Yes  Mediterranean Diet   \n",
       "\n",
       "    Sleep_Quality  Chronic_Health_Conditions Dementia  \n",
       "0            Poor                   Diabetes        0  \n",
       "1            Poor              Heart Disease        1  \n",
       "2            Poor              Heart Disease        0  \n",
       "3            Poor               Hypertension        1  \n",
       "4            Good                   Diabetes        1  \n",
       "..            ...                        ...      ...  \n",
       "995          Poor                   Diabetes        1  \n",
       "996          Poor                   Diabetes        0  \n",
       "997          Good                   Diabetes        0  \n",
       "998          Good                        NaN        1  \n",
       "999          Good              Heart Disease        0  \n",
       "\n",
       "[1000 rows x 24 columns]"
      ]
     },
     "execution_count": 2,
     "metadata": {},
     "output_type": "execute_result"
    }
   ],
   "source": [
    "data = pd.read_csv('/kaggle/input/dementia-patient-health-and-prescriptions-dataset/dementia_patients_health_data.csv')\n",
    "data"
   ]
  },
  {
   "cell_type": "code",
   "execution_count": 3,
   "id": "b850a449",
   "metadata": {
    "execution": {
     "iopub.execute_input": "2024-02-02T19:18:15.290196Z",
     "iopub.status.busy": "2024-02-02T19:18:15.289905Z",
     "iopub.status.idle": "2024-02-02T19:18:15.294848Z",
     "shell.execute_reply": "2024-02-02T19:18:15.294136Z"
    },
    "papermill": {
     "duration": 0.013246,
     "end_time": "2024-02-02T19:18:15.296373",
     "exception": false,
     "start_time": "2024-02-02T19:18:15.283127",
     "status": "completed"
    },
    "tags": []
   },
   "outputs": [
    {
     "data": {
      "text/plain": [
       "(1000, 24)"
      ]
     },
     "execution_count": 3,
     "metadata": {},
     "output_type": "execute_result"
    }
   ],
   "source": [
    "data.shape"
   ]
  },
  {
   "cell_type": "code",
   "execution_count": 4,
   "id": "e46162b1",
   "metadata": {
    "execution": {
     "iopub.execute_input": "2024-02-02T19:18:15.309639Z",
     "iopub.status.busy": "2024-02-02T19:18:15.309381Z",
     "iopub.status.idle": "2024-02-02T19:18:15.315537Z",
     "shell.execute_reply": "2024-02-02T19:18:15.314765Z"
    },
    "papermill": {
     "duration": 0.014437,
     "end_time": "2024-02-02T19:18:15.316966",
     "exception": false,
     "start_time": "2024-02-02T19:18:15.302529",
     "status": "completed"
    },
    "tags": []
   },
   "outputs": [
    {
     "data": {
      "text/plain": [
       "Diabetic                       int64\n",
       "AlcoholLevel                 float64\n",
       "HeartRate                      int64\n",
       "BloodOxygenLevel             float64\n",
       "BodyTemperature              float64\n",
       "Weight                       float64\n",
       "MRI_Delay                    float64\n",
       "Prescription                  object\n",
       "Dosage in mg                 float64\n",
       "Age                            int64\n",
       "Education_Level               object\n",
       "Dominant_Hand                 object\n",
       "Gender                        object\n",
       "Family_History                object\n",
       "Smoking_Status                object\n",
       "APOE_ε4                       object\n",
       "Physical_Activity             object\n",
       "Depression_Status             object\n",
       "Cognitive_Test_Scores          int64\n",
       "Medication_History            object\n",
       "Nutrition_Diet                object\n",
       "Sleep_Quality                 object\n",
       "Chronic_Health_Conditions     object\n",
       "Dementia                       int64\n",
       "dtype: object"
      ]
     },
     "execution_count": 4,
     "metadata": {},
     "output_type": "execute_result"
    }
   ],
   "source": [
    "data.dtypes"
   ]
  },
  {
   "cell_type": "code",
   "execution_count": 5,
   "id": "d53ad2af",
   "metadata": {
    "execution": {
     "iopub.execute_input": "2024-02-02T19:18:15.330519Z",
     "iopub.status.busy": "2024-02-02T19:18:15.330180Z",
     "iopub.status.idle": "2024-02-02T19:18:15.343199Z",
     "shell.execute_reply": "2024-02-02T19:18:15.342437Z"
    },
    "papermill": {
     "duration": 0.021579,
     "end_time": "2024-02-02T19:18:15.344648",
     "exception": false,
     "start_time": "2024-02-02T19:18:15.323069",
     "status": "completed"
    },
    "tags": []
   },
   "outputs": [
    {
     "data": {
      "text/plain": [
       "<bound method DataFrame.corr of      Diabetic  AlcoholLevel  HeartRate  BloodOxygenLevel  BodyTemperature  \\\n",
       "0           1      0.084974         98         96.230743        36.224852   \n",
       "1           0      0.016973         78         93.032122        36.183874   \n",
       "2           0      0.009000         89         93.566504        37.326321   \n",
       "3           0      0.086437         60         93.906510        37.030620   \n",
       "4           1      0.150747         67         97.508994        36.062121   \n",
       "..        ...           ...        ...               ...              ...   \n",
       "995         1      0.081825         87         93.851963        36.495134   \n",
       "996         1      0.145249         97         94.522391        36.270804   \n",
       "997         1      0.073692         65         98.578388        37.065703   \n",
       "998         0      0.037347         71         91.298580        37.037202   \n",
       "999         0      0.085969         90         95.522825        36.026748   \n",
       "\n",
       "        Weight  MRI_Delay Prescription  Dosage in mg  Age  ...  \\\n",
       "0    57.563978  36.421028          NaN           NaN   60  ...   \n",
       "1    56.832335  31.157633  Galantamine          12.0   61  ...   \n",
       "2    59.759066  37.640435          NaN           NaN   69  ...   \n",
       "3    58.266471  50.673992    Donepezil          23.0   78  ...   \n",
       "4    67.705027  27.810601    Memantine          20.0   77  ...   \n",
       "..         ...        ...          ...           ...  ...  ...   \n",
       "995  50.380106  42.318663    Donepezil          10.0   88  ...   \n",
       "996  94.006484  52.812568          NaN           NaN   80  ...   \n",
       "997  80.088613  13.640229          NaN           NaN   67  ...   \n",
       "998  95.322210  17.445715    Memantine          20.0   62  ...   \n",
       "999  57.671455  30.011838          NaN           NaN   80  ...   \n",
       "\n",
       "     Smoking_Status   APOE_ε4  Physical_Activity Depression_Status  \\\n",
       "0    Current Smoker  Negative          Sedentary                No   \n",
       "1     Former Smoker  Positive  Moderate Activity                No   \n",
       "2     Former Smoker  Negative  Moderate Activity                No   \n",
       "3      Never Smoked  Negative      Mild Activity               Yes   \n",
       "4      Never Smoked  Positive      Mild Activity                No   \n",
       "..              ...       ...                ...               ...   \n",
       "995    Never Smoked  Positive      Mild Activity                No   \n",
       "996    Never Smoked  Negative  Moderate Activity                No   \n",
       "997    Never Smoked  Positive          Sedentary                No   \n",
       "998    Never Smoked  Positive          Sedentary               Yes   \n",
       "999    Never Smoked  Positive      Mild Activity                No   \n",
       "\n",
       "    Cognitive_Test_Scores Medication_History      Nutrition_Diet  \\\n",
       "0                      10                 No       Low-Carb Diet   \n",
       "1                       1                Yes       Low-Carb Diet   \n",
       "2                       8                 No  Mediterranean Diet   \n",
       "3                       5                Yes       Balanced Diet   \n",
       "4                       0                Yes       Low-Carb Diet   \n",
       "..                    ...                ...                 ...   \n",
       "995                     5                 No       Balanced Diet   \n",
       "996                     9                Yes       Low-Carb Diet   \n",
       "997                     8                Yes       Balanced Diet   \n",
       "998                     2                 No       Low-Carb Diet   \n",
       "999                    10                Yes  Mediterranean Diet   \n",
       "\n",
       "    Sleep_Quality  Chronic_Health_Conditions Dementia  \n",
       "0            Poor                   Diabetes        0  \n",
       "1            Poor              Heart Disease        1  \n",
       "2            Poor              Heart Disease        0  \n",
       "3            Poor               Hypertension        1  \n",
       "4            Good                   Diabetes        1  \n",
       "..            ...                        ...      ...  \n",
       "995          Poor                   Diabetes        1  \n",
       "996          Poor                   Diabetes        0  \n",
       "997          Good                   Diabetes        0  \n",
       "998          Good                        NaN        1  \n",
       "999          Good              Heart Disease        0  \n",
       "\n",
       "[1000 rows x 24 columns]>"
      ]
     },
     "execution_count": 5,
     "metadata": {},
     "output_type": "execute_result"
    }
   ],
   "source": [
    "data.corr"
   ]
  },
  {
   "cell_type": "code",
   "execution_count": 6,
   "id": "66548d1a",
   "metadata": {
    "execution": {
     "iopub.execute_input": "2024-02-02T19:18:15.358451Z",
     "iopub.status.busy": "2024-02-02T19:18:15.357939Z",
     "iopub.status.idle": "2024-02-02T19:18:15.389895Z",
     "shell.execute_reply": "2024-02-02T19:18:15.389101Z"
    },
    "papermill": {
     "duration": 0.040662,
     "end_time": "2024-02-02T19:18:15.391633",
     "exception": false,
     "start_time": "2024-02-02T19:18:15.350971",
     "status": "completed"
    },
    "tags": []
   },
   "outputs": [
    {
     "data": {
      "text/html": [
       "<div>\n",
       "<style scoped>\n",
       "    .dataframe tbody tr th:only-of-type {\n",
       "        vertical-align: middle;\n",
       "    }\n",
       "\n",
       "    .dataframe tbody tr th {\n",
       "        vertical-align: top;\n",
       "    }\n",
       "\n",
       "    .dataframe thead th {\n",
       "        text-align: right;\n",
       "    }\n",
       "</style>\n",
       "<table border=\"1\" class=\"dataframe\">\n",
       "  <thead>\n",
       "    <tr style=\"text-align: right;\">\n",
       "      <th></th>\n",
       "      <th>Diabetic</th>\n",
       "      <th>AlcoholLevel</th>\n",
       "      <th>HeartRate</th>\n",
       "      <th>BloodOxygenLevel</th>\n",
       "      <th>BodyTemperature</th>\n",
       "      <th>Weight</th>\n",
       "      <th>MRI_Delay</th>\n",
       "      <th>Dosage in mg</th>\n",
       "      <th>Age</th>\n",
       "      <th>Cognitive_Test_Scores</th>\n",
       "      <th>Dementia</th>\n",
       "    </tr>\n",
       "  </thead>\n",
       "  <tbody>\n",
       "    <tr>\n",
       "      <th>count</th>\n",
       "      <td>1000.000000</td>\n",
       "      <td>1000.000000</td>\n",
       "      <td>1000.000000</td>\n",
       "      <td>1000.000000</td>\n",
       "      <td>1000.000000</td>\n",
       "      <td>1000.000000</td>\n",
       "      <td>1000.000000</td>\n",
       "      <td>485.000000</td>\n",
       "      <td>1000.000000</td>\n",
       "      <td>1000.000000</td>\n",
       "      <td>1000.000000</td>\n",
       "    </tr>\n",
       "    <tr>\n",
       "      <th>mean</th>\n",
       "      <td>0.513000</td>\n",
       "      <td>0.098429</td>\n",
       "      <td>79.383000</td>\n",
       "      <td>95.226051</td>\n",
       "      <td>36.761513</td>\n",
       "      <td>74.321326</td>\n",
       "      <td>30.103568</td>\n",
       "      <td>9.213402</td>\n",
       "      <td>74.908000</td>\n",
       "      <td>6.383000</td>\n",
       "      <td>0.485000</td>\n",
       "    </tr>\n",
       "    <tr>\n",
       "      <th>std</th>\n",
       "      <td>0.500081</td>\n",
       "      <td>0.058715</td>\n",
       "      <td>12.107556</td>\n",
       "      <td>2.929262</td>\n",
       "      <td>0.431701</td>\n",
       "      <td>14.463765</td>\n",
       "      <td>16.862170</td>\n",
       "      <td>6.493188</td>\n",
       "      <td>9.095068</td>\n",
       "      <td>3.180633</td>\n",
       "      <td>0.500025</td>\n",
       "    </tr>\n",
       "    <tr>\n",
       "      <th>min</th>\n",
       "      <td>0.000000</td>\n",
       "      <td>0.000414</td>\n",
       "      <td>60.000000</td>\n",
       "      <td>90.010677</td>\n",
       "      <td>36.002108</td>\n",
       "      <td>50.069731</td>\n",
       "      <td>0.094684</td>\n",
       "      <td>1.500000</td>\n",
       "      <td>60.000000</td>\n",
       "      <td>0.000000</td>\n",
       "      <td>0.000000</td>\n",
       "    </tr>\n",
       "    <tr>\n",
       "      <th>25%</th>\n",
       "      <td>0.000000</td>\n",
       "      <td>0.045505</td>\n",
       "      <td>68.000000</td>\n",
       "      <td>92.875017</td>\n",
       "      <td>36.395363</td>\n",
       "      <td>61.387339</td>\n",
       "      <td>16.237371</td>\n",
       "      <td>4.000000</td>\n",
       "      <td>67.000000</td>\n",
       "      <td>4.000000</td>\n",
       "      <td>0.000000</td>\n",
       "    </tr>\n",
       "    <tr>\n",
       "      <th>50%</th>\n",
       "      <td>1.000000</td>\n",
       "      <td>0.098235</td>\n",
       "      <td>79.000000</td>\n",
       "      <td>95.390420</td>\n",
       "      <td>36.784319</td>\n",
       "      <td>74.149204</td>\n",
       "      <td>29.577194</td>\n",
       "      <td>8.000000</td>\n",
       "      <td>75.000000</td>\n",
       "      <td>8.000000</td>\n",
       "      <td>0.000000</td>\n",
       "    </tr>\n",
       "    <tr>\n",
       "      <th>75%</th>\n",
       "      <td>1.000000</td>\n",
       "      <td>0.151840</td>\n",
       "      <td>90.000000</td>\n",
       "      <td>97.785111</td>\n",
       "      <td>37.126655</td>\n",
       "      <td>87.024034</td>\n",
       "      <td>44.176723</td>\n",
       "      <td>12.000000</td>\n",
       "      <td>83.000000</td>\n",
       "      <td>9.000000</td>\n",
       "      <td>1.000000</td>\n",
       "    </tr>\n",
       "    <tr>\n",
       "      <th>max</th>\n",
       "      <td>1.000000</td>\n",
       "      <td>0.199866</td>\n",
       "      <td>100.000000</td>\n",
       "      <td>99.999230</td>\n",
       "      <td>37.496809</td>\n",
       "      <td>99.982722</td>\n",
       "      <td>59.957599</td>\n",
       "      <td>23.000000</td>\n",
       "      <td>90.000000</td>\n",
       "      <td>10.000000</td>\n",
       "      <td>1.000000</td>\n",
       "    </tr>\n",
       "  </tbody>\n",
       "</table>\n",
       "</div>"
      ],
      "text/plain": [
       "          Diabetic  AlcoholLevel    HeartRate  BloodOxygenLevel  \\\n",
       "count  1000.000000   1000.000000  1000.000000       1000.000000   \n",
       "mean      0.513000      0.098429    79.383000         95.226051   \n",
       "std       0.500081      0.058715    12.107556          2.929262   \n",
       "min       0.000000      0.000414    60.000000         90.010677   \n",
       "25%       0.000000      0.045505    68.000000         92.875017   \n",
       "50%       1.000000      0.098235    79.000000         95.390420   \n",
       "75%       1.000000      0.151840    90.000000         97.785111   \n",
       "max       1.000000      0.199866   100.000000         99.999230   \n",
       "\n",
       "       BodyTemperature       Weight    MRI_Delay  Dosage in mg          Age  \\\n",
       "count      1000.000000  1000.000000  1000.000000    485.000000  1000.000000   \n",
       "mean         36.761513    74.321326    30.103568      9.213402    74.908000   \n",
       "std           0.431701    14.463765    16.862170      6.493188     9.095068   \n",
       "min          36.002108    50.069731     0.094684      1.500000    60.000000   \n",
       "25%          36.395363    61.387339    16.237371      4.000000    67.000000   \n",
       "50%          36.784319    74.149204    29.577194      8.000000    75.000000   \n",
       "75%          37.126655    87.024034    44.176723     12.000000    83.000000   \n",
       "max          37.496809    99.982722    59.957599     23.000000    90.000000   \n",
       "\n",
       "       Cognitive_Test_Scores     Dementia  \n",
       "count            1000.000000  1000.000000  \n",
       "mean                6.383000     0.485000  \n",
       "std                 3.180633     0.500025  \n",
       "min                 0.000000     0.000000  \n",
       "25%                 4.000000     0.000000  \n",
       "50%                 8.000000     0.000000  \n",
       "75%                 9.000000     1.000000  \n",
       "max                10.000000     1.000000  "
      ]
     },
     "execution_count": 6,
     "metadata": {},
     "output_type": "execute_result"
    }
   ],
   "source": [
    "data.describe()"
   ]
  },
  {
   "cell_type": "code",
   "execution_count": 7,
   "id": "75336ccd",
   "metadata": {
    "execution": {
     "iopub.execute_input": "2024-02-02T19:18:15.406137Z",
     "iopub.status.busy": "2024-02-02T19:18:15.405656Z",
     "iopub.status.idle": "2024-02-02T19:18:15.411841Z",
     "shell.execute_reply": "2024-02-02T19:18:15.411322Z"
    },
    "papermill": {
     "duration": 0.014881,
     "end_time": "2024-02-02T19:18:15.413222",
     "exception": false,
     "start_time": "2024-02-02T19:18:15.398341",
     "status": "completed"
    },
    "tags": []
   },
   "outputs": [
    {
     "data": {
      "text/plain": [
       "Diabetic                       0\n",
       "AlcoholLevel                   0\n",
       "HeartRate                      0\n",
       "BloodOxygenLevel               0\n",
       "BodyTemperature                0\n",
       "Weight                         0\n",
       "MRI_Delay                      0\n",
       "Prescription                 515\n",
       "Dosage in mg                 515\n",
       "Age                            0\n",
       "Education_Level                0\n",
       "Dominant_Hand                  0\n",
       "Gender                         0\n",
       "Family_History                 0\n",
       "Smoking_Status                 0\n",
       "APOE_ε4                        0\n",
       "Physical_Activity              0\n",
       "Depression_Status              0\n",
       "Cognitive_Test_Scores          0\n",
       "Medication_History             0\n",
       "Nutrition_Diet                 0\n",
       "Sleep_Quality                  0\n",
       "Chronic_Health_Conditions    179\n",
       "Dementia                       0\n",
       "dtype: int64"
      ]
     },
     "execution_count": 7,
     "metadata": {},
     "output_type": "execute_result"
    }
   ],
   "source": [
    "data.isnull().sum()"
   ]
  },
  {
   "cell_type": "code",
   "execution_count": 8,
   "id": "256444f1",
   "metadata": {
    "execution": {
     "iopub.execute_input": "2024-02-02T19:18:15.428537Z",
     "iopub.status.busy": "2024-02-02T19:18:15.427889Z",
     "iopub.status.idle": "2024-02-02T19:18:15.439450Z",
     "shell.execute_reply": "2024-02-02T19:18:15.438594Z"
    },
    "papermill": {
     "duration": 0.021297,
     "end_time": "2024-02-02T19:18:15.441047",
     "exception": false,
     "start_time": "2024-02-02T19:18:15.419750",
     "status": "completed"
    },
    "tags": []
   },
   "outputs": [
    {
     "name": "stderr",
     "output_type": "stream",
     "text": [
      "/tmp/ipykernel_19/3919082295.py:1: FutureWarning: DataFrame.fillna with 'method' is deprecated and will raise in a future version. Use obj.ffill() or obj.bfill() instead.\n",
      "  data.fillna(method='ffill', inplace=True)\n"
     ]
    },
    {
     "data": {
      "text/plain": [
       "Diabetic                     0\n",
       "AlcoholLevel                 0\n",
       "HeartRate                    0\n",
       "BloodOxygenLevel             0\n",
       "BodyTemperature              0\n",
       "Weight                       0\n",
       "MRI_Delay                    0\n",
       "Prescription                 1\n",
       "Dosage in mg                 1\n",
       "Age                          0\n",
       "Education_Level              0\n",
       "Dominant_Hand                0\n",
       "Gender                       0\n",
       "Family_History               0\n",
       "Smoking_Status               0\n",
       "APOE_ε4                      0\n",
       "Physical_Activity            0\n",
       "Depression_Status            0\n",
       "Cognitive_Test_Scores        0\n",
       "Medication_History           0\n",
       "Nutrition_Diet               0\n",
       "Sleep_Quality                0\n",
       "Chronic_Health_Conditions    0\n",
       "Dementia                     0\n",
       "dtype: int64"
      ]
     },
     "execution_count": 8,
     "metadata": {},
     "output_type": "execute_result"
    }
   ],
   "source": [
    "data.fillna(method='ffill', inplace=True)\n",
    "data.isnull().sum()"
   ]
  },
  {
   "cell_type": "code",
   "execution_count": 9,
   "id": "1635356d",
   "metadata": {
    "execution": {
     "iopub.execute_input": "2024-02-02T19:18:15.455793Z",
     "iopub.status.busy": "2024-02-02T19:18:15.455548Z",
     "iopub.status.idle": "2024-02-02T19:18:15.460573Z",
     "shell.execute_reply": "2024-02-02T19:18:15.459848Z"
    },
    "papermill": {
     "duration": 0.014169,
     "end_time": "2024-02-02T19:18:15.461999",
     "exception": false,
     "start_time": "2024-02-02T19:18:15.447830",
     "status": "completed"
    },
    "tags": []
   },
   "outputs": [
    {
     "data": {
      "text/plain": [
       "Index(['Diabetic', 'AlcoholLevel', 'HeartRate', 'BloodOxygenLevel',\n",
       "       'BodyTemperature', 'Weight', 'MRI_Delay', 'Prescription',\n",
       "       'Dosage in mg', 'Age', 'Education_Level', 'Dominant_Hand', 'Gender',\n",
       "       'Family_History', 'Smoking_Status', 'APOE_ε4', 'Physical_Activity',\n",
       "       'Depression_Status', 'Cognitive_Test_Scores', 'Medication_History',\n",
       "       'Nutrition_Diet', 'Sleep_Quality', 'Chronic_Health_Conditions',\n",
       "       'Dementia'],\n",
       "      dtype='object')"
      ]
     },
     "execution_count": 9,
     "metadata": {},
     "output_type": "execute_result"
    }
   ],
   "source": [
    "data.columns"
   ]
  },
  {
   "cell_type": "code",
   "execution_count": 10,
   "id": "51630133",
   "metadata": {
    "execution": {
     "iopub.execute_input": "2024-02-02T19:18:15.477067Z",
     "iopub.status.busy": "2024-02-02T19:18:15.476405Z",
     "iopub.status.idle": "2024-02-02T19:18:16.516092Z",
     "shell.execute_reply": "2024-02-02T19:18:16.515380Z"
    },
    "papermill": {
     "duration": 1.049281,
     "end_time": "2024-02-02T19:18:16.518144",
     "exception": false,
     "start_time": "2024-02-02T19:18:15.468863",
     "status": "completed"
    },
    "tags": []
   },
   "outputs": [],
   "source": [
    "import matplotlib.pyplot as plt\n",
    "import seaborn as sns"
   ]
  },
  {
   "cell_type": "code",
   "execution_count": 11,
   "id": "dee16e96",
   "metadata": {
    "execution": {
     "iopub.execute_input": "2024-02-02T19:18:16.533334Z",
     "iopub.status.busy": "2024-02-02T19:18:16.533051Z",
     "iopub.status.idle": "2024-02-02T19:18:16.648960Z",
     "shell.execute_reply": "2024-02-02T19:18:16.648094Z"
    },
    "papermill": {
     "duration": 0.125142,
     "end_time": "2024-02-02T19:18:16.650448",
     "exception": false,
     "start_time": "2024-02-02T19:18:16.525306",
     "status": "completed"
    },
    "tags": []
   },
   "outputs": [
    {
     "data": {
      "image/png": "[encoded data removed]",
      "text/plain": [
       "<Figure size 600x600 with 1 Axes>"
      ]
     },
     "metadata": {},
     "output_type": "display_data"
    }
   ],
   "source": [
    "gender_counts = data['Gender'].value_counts()\n",
    "\n",
    "plt.figure(figsize=(6, 6))\n",
    "plt.pie(gender_counts, labels=gender_counts.index, autopct='%1.1f%%', colors=['skyblue', 'lightcoral'])\n",
    "plt.title('Gender Counts')\n",
    "plt.show()"
   ]
  },
  {
   "cell_type": "code",
   "execution_count": 12,
   "id": "30d5822b",
   "metadata": {
    "execution": {
     "iopub.execute_input": "2024-02-02T19:18:16.666373Z",
     "iopub.status.busy": "2024-02-02T19:18:16.666121Z",
     "iopub.status.idle": "2024-02-02T19:18:17.079790Z",
     "shell.execute_reply": "2024-02-02T19:18:17.079210Z"
    },
    "papermill": {
     "duration": 0.422985,
     "end_time": "2024-02-02T19:18:17.081262",
     "exception": false,
     "start_time": "2024-02-02T19:18:16.658277",
     "status": "completed"
    },
    "tags": []
   },
   "outputs": [
    {
     "data": {
      "image/png": "[encoded data removed]",
      "text/plain": [
       "<Figure size 1000x600 with 1 Axes>"
      ]
     },
     "metadata": {},
     "output_type": "display_data"
    }
   ],
   "source": [
    "plt.figure(figsize=(10, 6))\n",
    "sns.countplot(data=data, x='Age', hue='Dementia', palette='viridis')\n",
    "\n",
    "plt.show()"
   ]
  },
  {
   "cell_type": "code",
   "execution_count": 13,
   "id": "c12244e6",
   "metadata": {
    "execution": {
     "iopub.execute_input": "2024-02-02T19:18:17.098015Z",
     "iopub.status.busy": "2024-02-02T19:18:17.097232Z",
     "iopub.status.idle": "2024-02-02T19:18:17.231351Z",
     "shell.execute_reply": "2024-02-02T19:18:17.230527Z"
    },
    "papermill": {
     "duration": 0.144157,
     "end_time": "2024-02-02T19:18:17.233037",
     "exception": false,
     "start_time": "2024-02-02T19:18:17.088880",
     "status": "completed"
    },
    "tags": []
   },
   "outputs": [
    {
     "data": {
      "image/png": "[encoded data removed]",
      "text/plain": [
       "<Figure size 1000x500 with 1 Axes>"
      ]
     },
     "metadata": {},
     "output_type": "display_data"
    }
   ],
   "source": [
    "plt.figure(figsize=(10, 5))\n",
    "sns.countplot(data=data, x='Dementia', hue='Gender', palette='viridis')\n",
    "\n",
    "plt.show()"
   ]
  },
  {
   "cell_type": "code",
   "execution_count": 14,
   "id": "327d8e68",
   "metadata": {
    "execution": {
     "iopub.execute_input": "2024-02-02T19:18:17.249571Z",
     "iopub.status.busy": "2024-02-02T19:18:17.249291Z",
     "iopub.status.idle": "2024-02-02T19:18:17.254410Z",
     "shell.execute_reply": "2024-02-02T19:18:17.253772Z"
    },
    "papermill": {
     "duration": 0.015141,
     "end_time": "2024-02-02T19:18:17.255935",
     "exception": false,
     "start_time": "2024-02-02T19:18:17.240794",
     "status": "completed"
    },
    "tags": []
   },
   "outputs": [
    {
     "data": {
      "text/plain": [
       "Index(['Diabetic', 'AlcoholLevel', 'HeartRate', 'BloodOxygenLevel',\n",
       "       'BodyTemperature', 'Weight', 'MRI_Delay', 'Prescription',\n",
       "       'Dosage in mg', 'Age', 'Education_Level', 'Dominant_Hand', 'Gender',\n",
       "       'Family_History', 'Smoking_Status', 'APOE_ε4', 'Physical_Activity',\n",
       "       'Depression_Status', 'Cognitive_Test_Scores', 'Medication_History',\n",
       "       'Nutrition_Diet', 'Sleep_Quality', 'Chronic_Health_Conditions',\n",
       "       'Dementia'],\n",
       "      dtype='object')"
      ]
     },
     "execution_count": 14,
     "metadata": {},
     "output_type": "execute_result"
    }
   ],
   "source": [
    "data.columns"
   ]
  },
  {
   "cell_type": "code",
   "execution_count": 15,
   "id": "85f9559b",
   "metadata": {
    "execution": {
     "iopub.execute_input": "2024-02-02T19:18:17.272160Z",
     "iopub.status.busy": "2024-02-02T19:18:17.271876Z",
     "iopub.status.idle": "2024-02-02T19:18:17.278306Z",
     "shell.execute_reply": "2024-02-02T19:18:17.277536Z"
    },
    "papermill": {
     "duration": 0.01632,
     "end_time": "2024-02-02T19:18:17.279886",
     "exception": false,
     "start_time": "2024-02-02T19:18:17.263566",
     "status": "completed"
    },
    "tags": []
   },
   "outputs": [
    {
     "data": {
      "text/plain": [
       "Depression_Status\n",
       "No     755\n",
       "Yes    245\n",
       "Name: count, dtype: int64"
      ]
     },
     "execution_count": 15,
     "metadata": {},
     "output_type": "execute_result"
    }
   ],
   "source": [
    "data['Depression_Status'].value_counts()"
   ]
  },
  {
   "cell_type": "code",
   "execution_count": 16,
   "id": "d926a6ff",
   "metadata": {
    "execution": {
     "iopub.execute_input": "2024-02-02T19:18:17.296547Z",
     "iopub.status.busy": "2024-02-02T19:18:17.296305Z",
     "iopub.status.idle": "2024-02-02T19:18:17.302070Z",
     "shell.execute_reply": "2024-02-02T19:18:17.301353Z"
    },
    "papermill": {
     "duration": 0.015732,
     "end_time": "2024-02-02T19:18:17.303635",
     "exception": false,
     "start_time": "2024-02-02T19:18:17.287903",
     "status": "completed"
    },
    "tags": []
   },
   "outputs": [
    {
     "data": {
      "text/plain": [
       "Physical_Activity\n",
       "Mild Activity        351\n",
       "Sedentary            331\n",
       "Moderate Activity    318\n",
       "Name: count, dtype: int64"
      ]
     },
     "execution_count": 16,
     "metadata": {},
     "output_type": "execute_result"
    }
   ],
   "source": [
    "data['Physical_Activity'].value_counts()"
   ]
  },
  {
   "cell_type": "code",
   "execution_count": 17,
   "id": "8004817e",
   "metadata": {
    "execution": {
     "iopub.execute_input": "2024-02-02T19:18:17.320152Z",
     "iopub.status.busy": "2024-02-02T19:18:17.319893Z",
     "iopub.status.idle": "2024-02-02T19:18:17.325876Z",
     "shell.execute_reply": "2024-02-02T19:18:17.325147Z"
    },
    "papermill": {
     "duration": 0.015998,
     "end_time": "2024-02-02T19:18:17.327359",
     "exception": false,
     "start_time": "2024-02-02T19:18:17.311361",
     "status": "completed"
    },
    "tags": []
   },
   "outputs": [
    {
     "data": {
      "text/plain": [
       "Smoking_Status\n",
       "Former Smoker     458\n",
       "Never Smoked      452\n",
       "Current Smoker     90\n",
       "Name: count, dtype: int64"
      ]
     },
     "execution_count": 17,
     "metadata": {},
     "output_type": "execute_result"
    }
   ],
   "source": [
    "data['Smoking_Status'].value_counts()"
   ]
  },
  {
   "cell_type": "code",
   "execution_count": 18,
   "id": "f8432f1e",
   "metadata": {
    "execution": {
     "iopub.execute_input": "2024-02-02T19:18:17.344318Z",
     "iopub.status.busy": "2024-02-02T19:18:17.344055Z",
     "iopub.status.idle": "2024-02-02T19:18:17.350503Z",
     "shell.execute_reply": "2024-02-02T19:18:17.349727Z"
    },
    "papermill": {
     "duration": 0.016707,
     "end_time": "2024-02-02T19:18:17.351978",
     "exception": false,
     "start_time": "2024-02-02T19:18:17.335271",
     "status": "completed"
    },
    "tags": []
   },
   "outputs": [
    {
     "data": {
      "text/plain": [
       "Family_History\n",
       "Yes    520\n",
       "No     480\n",
       "Name: count, dtype: int64"
      ]
     },
     "execution_count": 18,
     "metadata": {},
     "output_type": "execute_result"
    }
   ],
   "source": [
    "data['Family_History'].value_counts()"
   ]
  },
  {
   "cell_type": "code",
   "execution_count": 19,
   "id": "1f03a4b0",
   "metadata": {
    "execution": {
     "iopub.execute_input": "2024-02-02T19:18:17.369668Z",
     "iopub.status.busy": "2024-02-02T19:18:17.369411Z",
     "iopub.status.idle": "2024-02-02T19:18:17.375497Z",
     "shell.execute_reply": "2024-02-02T19:18:17.374699Z"
    },
    "papermill": {
     "duration": 0.016941,
     "end_time": "2024-02-02T19:18:17.377211",
     "exception": false,
     "start_time": "2024-02-02T19:18:17.360270",
     "status": "completed"
    },
    "tags": []
   },
   "outputs": [
    {
     "data": {
      "text/plain": [
       "Dominant_Hand\n",
       "Left     519\n",
       "Right    481\n",
       "Name: count, dtype: int64"
      ]
     },
     "execution_count": 19,
     "metadata": {},
     "output_type": "execute_result"
    }
   ],
   "source": [
    "data['Dominant_Hand'].value_counts()"
   ]
  },
  {
   "cell_type": "code",
   "execution_count": 20,
   "id": "d2c8d87b",
   "metadata": {
    "execution": {
     "iopub.execute_input": "2024-02-02T19:18:17.395000Z",
     "iopub.status.busy": "2024-02-02T19:18:17.394445Z",
     "iopub.status.idle": "2024-02-02T19:18:17.401529Z",
     "shell.execute_reply": "2024-02-02T19:18:17.400842Z"
    },
    "papermill": {
     "duration": 0.017543,
     "end_time": "2024-02-02T19:18:17.402941",
     "exception": false,
     "start_time": "2024-02-02T19:18:17.385398",
     "status": "completed"
    },
    "tags": []
   },
   "outputs": [
    {
     "data": {
      "text/plain": [
       "Diabetic\n",
       "1    513\n",
       "0    487\n",
       "Name: count, dtype: int64"
      ]
     },
     "execution_count": 20,
     "metadata": {},
     "output_type": "execute_result"
    }
   ],
   "source": [
    "data['Diabetic'].value_counts()"
   ]
  },
  {
   "cell_type": "code",
   "execution_count": 21,
   "id": "8d63c3a9",
   "metadata": {
    "execution": {
     "iopub.execute_input": "2024-02-02T19:18:17.420734Z",
     "iopub.status.busy": "2024-02-02T19:18:17.419993Z",
     "iopub.status.idle": "2024-02-02T19:18:17.426401Z",
     "shell.execute_reply": "2024-02-02T19:18:17.425686Z"
    },
    "papermill": {
     "duration": 0.016606,
     "end_time": "2024-02-02T19:18:17.427751",
     "exception": false,
     "start_time": "2024-02-02T19:18:17.411145",
     "status": "completed"
    },
    "tags": []
   },
   "outputs": [
    {
     "data": {
      "text/plain": [
       "Education_Level\n",
       "Primary School      389\n",
       "Secondary School    304\n",
       "No School           155\n",
       "Diploma/Degree      152\n",
       "Name: count, dtype: int64"
      ]
     },
     "execution_count": 21,
     "metadata": {},
     "output_type": "execute_result"
    }
   ],
   "source": [
    "data['Education_Level'].value_counts()"
   ]
  },
  {
   "cell_type": "code",
   "execution_count": 22,
   "id": "38403cbd",
   "metadata": {
    "execution": {
     "iopub.execute_input": "2024-02-02T19:18:17.445837Z",
     "iopub.status.busy": "2024-02-02T19:18:17.445325Z",
     "iopub.status.idle": "2024-02-02T19:18:17.451365Z",
     "shell.execute_reply": "2024-02-02T19:18:17.450836Z"
    },
    "papermill": {
     "duration": 0.016523,
     "end_time": "2024-02-02T19:18:17.452715",
     "exception": false,
     "start_time": "2024-02-02T19:18:17.436192",
     "status": "completed"
    },
    "tags": []
   },
   "outputs": [
    {
     "data": {
      "text/plain": [
       "Prescription\n",
       "Rivastigmine    257\n",
       "Memantine       254\n",
       "Donepezil       248\n",
       "Galantamine     240\n",
       "Name: count, dtype: int64"
      ]
     },
     "execution_count": 22,
     "metadata": {},
     "output_type": "execute_result"
    }
   ],
   "source": [
    "data['Prescription'].value_counts()"
   ]
  },
  {
   "cell_type": "code",
   "execution_count": 23,
   "id": "3e40981a",
   "metadata": {
    "execution": {
     "iopub.execute_input": "2024-02-02T19:18:17.470982Z",
     "iopub.status.busy": "2024-02-02T19:18:17.470254Z",
     "iopub.status.idle": "2024-02-02T19:18:17.478283Z",
     "shell.execute_reply": "2024-02-02T19:18:17.477575Z"
    },
    "papermill": {
     "duration": 0.018538,
     "end_time": "2024-02-02T19:18:17.479665",
     "exception": false,
     "start_time": "2024-02-02T19:18:17.461127",
     "status": "completed"
    },
    "tags": []
   },
   "outputs": [
    {
     "data": {
      "text/plain": [
       "BodyTemperature\n",
       "36.224852    1\n",
       "37.383558    1\n",
       "37.145689    1\n",
       "37.018821    1\n",
       "36.868901    1\n",
       "            ..\n",
       "36.346912    1\n",
       "36.627421    1\n",
       "36.867302    1\n",
       "36.064893    1\n",
       "36.026748    1\n",
       "Name: count, Length: 1000, dtype: int64"
      ]
     },
     "execution_count": 23,
     "metadata": {},
     "output_type": "execute_result"
    }
   ],
   "source": [
    "data['BodyTemperature'].value_counts()"
   ]
  },
  {
   "cell_type": "code",
   "execution_count": 24,
   "id": "10d850dd",
   "metadata": {
    "execution": {
     "iopub.execute_input": "2024-02-02T19:18:17.497677Z",
     "iopub.status.busy": "2024-02-02T19:18:17.497073Z",
     "iopub.status.idle": "2024-02-02T19:18:17.503791Z",
     "shell.execute_reply": "2024-02-02T19:18:17.503073Z"
    },
    "papermill": {
     "duration": 0.017124,
     "end_time": "2024-02-02T19:18:17.505183",
     "exception": false,
     "start_time": "2024-02-02T19:18:17.488059",
     "status": "completed"
    },
    "tags": []
   },
   "outputs": [
    {
     "data": {
      "text/plain": [
       "BloodOxygenLevel\n",
       "96.230743    1\n",
       "95.955448    1\n",
       "92.512576    1\n",
       "98.337835    1\n",
       "91.263593    1\n",
       "            ..\n",
       "99.857923    1\n",
       "91.714044    1\n",
       "99.258909    1\n",
       "91.025951    1\n",
       "95.522825    1\n",
       "Name: count, Length: 1000, dtype: int64"
      ]
     },
     "execution_count": 24,
     "metadata": {},
     "output_type": "execute_result"
    }
   ],
   "source": [
    "data['BloodOxygenLevel'].value_counts()"
   ]
  },
  {
   "cell_type": "code",
   "execution_count": 25,
   "id": "faf4a487",
   "metadata": {
    "execution": {
     "iopub.execute_input": "2024-02-02T19:18:17.523155Z",
     "iopub.status.busy": "2024-02-02T19:18:17.522911Z",
     "iopub.status.idle": "2024-02-02T19:18:17.528702Z",
     "shell.execute_reply": "2024-02-02T19:18:17.528008Z"
    },
    "papermill": {
     "duration": 0.016345,
     "end_time": "2024-02-02T19:18:17.530077",
     "exception": false,
     "start_time": "2024-02-02T19:18:17.513732",
     "status": "completed"
    },
    "tags": []
   },
   "outputs": [
    {
     "data": {
      "text/plain": [
       "HeartRate\n",
       "60     32\n",
       "71     31\n",
       "90     31\n",
       "93     31\n",
       "99     31\n",
       "63     30\n",
       "67     29\n",
       "74     28\n",
       "65     28\n",
       "68     28\n",
       "66     28\n",
       "81     28\n",
       "79     27\n",
       "62     27\n",
       "87     26\n",
       "92     26\n",
       "64     26\n",
       "84     25\n",
       "94     25\n",
       "61     25\n",
       "97     24\n",
       "78     24\n",
       "69     24\n",
       "89     24\n",
       "72     24\n",
       "82     23\n",
       "95     23\n",
       "75     22\n",
       "98     21\n",
       "91     21\n",
       "80     20\n",
       "73     20\n",
       "83     20\n",
       "100    20\n",
       "86     20\n",
       "70     19\n",
       "88     19\n",
       "77     19\n",
       "76     18\n",
       "96     17\n",
       "85     16\n",
       "Name: count, dtype: int64"
      ]
     },
     "execution_count": 25,
     "metadata": {},
     "output_type": "execute_result"
    }
   ],
   "source": [
    "data['HeartRate'].value_counts()"
   ]
  },
  {
   "cell_type": "code",
   "execution_count": 26,
   "id": "210638a2",
   "metadata": {
    "execution": {
     "iopub.execute_input": "2024-02-02T19:18:17.549130Z",
     "iopub.status.busy": "2024-02-02T19:18:17.548877Z",
     "iopub.status.idle": "2024-02-02T19:18:17.910870Z",
     "shell.execute_reply": "2024-02-02T19:18:17.910201Z"
    },
    "papermill": {
     "duration": 0.373147,
     "end_time": "2024-02-02T19:18:17.912664",
     "exception": false,
     "start_time": "2024-02-02T19:18:17.539517",
     "status": "completed"
    },
    "tags": []
   },
   "outputs": [
    {
     "data": {
      "image/png": "[encoded data removed]",
      "text/plain": [
       "<Figure size 3000x1200 with 5 Axes>"
      ]
     },
     "metadata": {},
     "output_type": "display_data"
    }
   ],
   "source": [
    "plt.rcParams['figure.figsize'] = (30, 12)\n",
    "\n",
    "# Create a subplot with five pie charts side by side\n",
    "plt.subplot(1, 5, 1)\n",
    "size = data['Gender'].value_counts()\n",
    "labels = 'Female', 'Male'\n",
    "color = ['red', 'green']\n",
    "\n",
    "plt.pie(size, colors=color, labels=labels, autopct='%.2f%%')\n",
    "plt.title('Gender', fontsize=20)\n",
    "plt.axis('off')\n",
    "\n",
    "\n",
    "plt.subplot(1, 5, 2)\n",
    "size = data['Diabetic'].value_counts()\n",
    "labels = 'Yes', 'No'\n",
    "color = ['red', 'green']\n",
    "\n",
    "plt.pie(size, colors=color, labels=labels, autopct='%.2f%%')\n",
    "plt.title('Diabetic', fontsize=20)\n",
    "plt.axis('off')\n",
    "\n",
    "plt.subplot(1, 5, 3)\n",
    "size = data['Education_Level'].value_counts()\n",
    "labels = 'Primary school', 'Scodndary school', 'no school', 'diploma/degree'\n",
    "color = ['red', 'green', 'blue', 'cyan']\n",
    "\n",
    "plt.pie(size, colors=color, labels=labels, autopct='%.2f%%')\n",
    "plt.title('Education_Level', fontsize=20)\n",
    "plt.axis('off')\n",
    "\n",
    "plt.subplot(1, 5, 4)\n",
    "size = data['Dominant_Hand'].value_counts()\n",
    "labels = 'Left', 'Right'\n",
    "color = ['red', 'green']\n",
    "\n",
    "plt.pie(size, colors=color, labels=labels, autopct='%.2f%%')\n",
    "plt.title('Dominant_Hand', fontsize=20)\n",
    "plt.axis('off')\n",
    "\n",
    "plt.subplot(1, 5, 5)\n",
    "size = data['Prescription'].value_counts()\n",
    "labels = 'Rivastigmine', 'Memantine', 'Donepezil', 'Galantamine',   \n",
    "color = ['red', 'green', 'blue', 'cyan']\n",
    "\n",
    "plt.pie(size, colors=color, labels=labels, autopct='%.2f%%')\n",
    "plt.title('Prescription', fontsize=20)\n",
    "plt.axis('off')\n",
    "\n",
    "\n",
    "plt.grid()\n",
    "plt.show()"
   ]
  },
  {
   "cell_type": "code",
   "execution_count": null,
   "id": "8ca51a1f",
   "metadata": {
    "papermill": {
     "duration": 0.010573,
     "end_time": "2024-02-02T19:18:17.933915",
     "exception": false,
     "start_time": "2024-02-02T19:18:17.923342",
     "status": "completed"
    },
    "tags": []
   },
   "outputs": [],
   "source": []
  },
  {
   "cell_type": "markdown",
   "id": "d4177530",
   "metadata": {
    "papermill": {
     "duration": 0.009487,
     "end_time": "2024-02-02T19:18:17.953632",
     "exception": false,
     "start_time": "2024-02-02T19:18:17.944145",
     "status": "completed"
    },
    "tags": []
   },
   "source": [
    "Work in progress..."
   ]
  }
 ],
 "metadata": {
  "kaggle": {
   "accelerator": "none",
   "dataSources": [
    {
     "datasetId": 4378098,
     "sourceId": 7516247,
     "sourceType": "datasetVersion"
    }
   ],
   "dockerImageVersionId": 30646,
   "isGpuEnabled": false,
   "isInternetEnabled": true,
   "language": "python",
   "sourceType": "notebook"
  },
  "kernelspec": {
   "display_name": "Python 3 (ipykernel)",
   "language": "python",
   "name": "python3"
  },
  "language_info": {
   "codemirror_mode": {
    "name": "ipython",
    "version": 3
   },
   "file_extension": ".py",
   "mimetype": "text/x-python",
   "name": "python",
   "nbconvert_exporter": "python",
   "pygments_lexer": "ipython3",
   "version": "3.11.5"
  },
  "papermill": {
   "default_parameters": {},
   "duration": 5.85165,
   "end_time": "2024-02-02T19:18:18.380746",
   "environment_variables": {},
   "exception": null,
   "input_path": "__notebook__.ipynb",
   "output_path": "__notebook__.ipynb",
   "parameters": {},
   "start_time": "2024-02-02T19:18:12.529096",
   "version": "2.5.0"
  }
 },
 "nbformat": 4,
 "nbformat_minor": 5
}
